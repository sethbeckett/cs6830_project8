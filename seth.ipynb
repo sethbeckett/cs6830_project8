{
 "cells": [
  {
   "attachments": {},
   "cell_type": "markdown",
   "metadata": {},
   "source": [
    "Project Ideas (Classification)\n",
    "* [Cache County Crime](https://opendata.utah.gov/Public-Safety/Cache-County-Sheriff-Police-Crime-Data/5tai-5haw)\n",
    "* [Fast Food](https://www.kaggle.com/datasets/ulrikthygepedersen/fastfood-nutrition)\n",
    "* Buy/Sell a stock/crypto"
   ]
  },
  {
   "cell_type": "code",
   "execution_count": null,
   "metadata": {},
   "outputs": [],
   "source": []
  }
 ],
 "metadata": {
  "kernelspec": {
   "display_name": "Python 3",
   "language": "python",
   "name": "python3"
  },
  "language_info": {
   "name": "python",
   "version": "3.11.2"
  },
  "orig_nbformat": 4
 },
 "nbformat": 4,
 "nbformat_minor": 2
}
