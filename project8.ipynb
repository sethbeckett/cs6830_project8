{
 "cells": [
  {
   "cell_type": "code",
   "execution_count": null,
   "metadata": {},
   "outputs": [],
   "source": [
    "import pandas as pd\n",
    "import numpy as np\n",
    "from sklearn.neighbors import NearestNeighbors\n",
    "import random\n",
    "from sklearn.tree import export_graphviz\n",
    "from sklearn.model_selection import train_test_split\n",
    "from sklearn.metrics import precision_recall_fscore_support\n",
    "from IPython.display import SVG\n",
    "# You may need to install the Python graphviz library. At the command line:\n",
    "#   pip install graphviz\n",
    "# You will also need to install the graphviz executables. You can use apt,\n",
    "# macports, or other installer for your system.\n",
    "from graphviz import Source\n",
    "import matplotlib.pyplot as plt\n",
    "from sklearn.tree import DecisionTreeClassifier\n",
    "from sklearn import tree"
   ]
  },
  {
   "attachments": {},
   "cell_type": "markdown",
   "metadata": {},
   "source": [
    "## Decision Trees"
   ]
  },
  {
   "cell_type": "code",
   "execution_count": null,
   "metadata": {},
   "outputs": [],
   "source": [
    "df=pd.read_csv('glass.csv')\n",
    "model_precision = {\"Max Depth 3\": 0, \"Max Depth 5\": 0}\n",
    "model_recall = {\"Max Depth 3\": 0, \"Max Depth 5\": 0}\n",
    "model_fscore = {\"Max Depth 3\": 0, \"Max Depth 5\": 0}\n",
    "display(df)\n",
    "\n",
    "feature_cols = [\"RI\", \"Na\", \"Mg\", \"Al\", \"Si\", \"K\", \"Ca\", \"Ba\", \"Fe\"]\n",
    "df_x = df[feature_cols]\n",
    "df_y = df[[\"Type\"]]\n",
    "# display(df_x)\n",
    "# display(df_y)\n",
    "\n",
    "x = df_x.values\n",
    "y = df_y.values\n",
    "print(x[0])\n",
    "print(y[0])\n",
    "\n",
    "xtrain, xtest, ytrain, ytest = train_test_split(x, y, test_size=0.25)\n",
    "print(xtrain)"
   ]
  },
  {
   "cell_type": "code",
   "execution_count": null,
   "metadata": {},
   "outputs": [],
   "source": [
    "treeclf1 = DecisionTreeClassifier(max_depth=3, random_state=1)\n",
    "treeclf1.fit(xtrain, ytrain)\n",
    "y_pred = treeclf1.predict(xtest)\n",
    "p,r,f,s = precision_recall_fscore_support(ytest, y_pred)\n",
    "model_fscore[\"Max Depth 3\"] = [(f[0]+f[1] / 2)]\n",
    "model_recall[\"Max Depth 3\"] = [(r[0]+r[1] / 2)]\n",
    "model_precision[\"Max Depth 3\"] = [(p[0]+p[1] / 2)]\n",
    "display('Depth 3 precision = {}'.format(p))\n",
    "display('Depth 3 recall = {}'.format(r))\n",
    "display('Depth 3 f-score = {}'.format(f))\n",
    "\n",
    "treeclf2 = DecisionTreeClassifier(max_depth=5, random_state=1)\n",
    "treeclf2.fit(xtrain, ytrain)\n",
    "y_pred = treeclf2.predict(xtest)\n",
    "p,r,f,s = precision_recall_fscore_support(ytest, y_pred)\n",
    "model_fscore[\"Max Depth 5\"] = [(f[0]+f[1] / 2)]\n",
    "model_recall[\"Depth 5\"] = [(r[0]+r[1] / 2)]\n",
    "model_precision[\"Max Depth 5\"] = [(p[0]+p[1] / 2)]\n",
    "display('Depth 5 precision = {}'.format(p))\n",
    "display('Depth 5 recall = {}'.format(r))\n",
    "display('Max Depth 5 f-score = {}'.format(f))"
   ]
  },
  {
   "cell_type": "code",
   "execution_count": null,
   "metadata": {},
   "outputs": [],
   "source": [
    "graph1 = Source(tree.export_graphviz(treeclf1, out_file=None,\n",
    "                                    feature_names=feature_cols,\n",
    "                                    class_names=['1', '2', '3', '4', '5', '6', '7'], filled = True))\n",
    "display(SVG(graph1.pipe(format='svg')))\n",
    "\n",
    "graph2 = Source(tree.export_graphviz(treeclf2, out_file=None,\n",
    "                                    feature_names=feature_cols,\n",
    "                                    class_names=['1', '2', '3', '4', '5', '6', '7'], filled = True))\n",
    "display(SVG(graph2.pipe(format='svg')))\n",
    "\n"
   ]
  },
  {
   "cell_type": "code",
   "execution_count": null,
   "metadata": {},
   "outputs": [],
   "source": [
    "importance1 = pd.DataFrame({'feature':feature_cols, 'importance':treeclf1.feature_importances_})\n",
    "display(importance1)\n",
    "importance1.plot(kind='barh', figsize=(9, 7))\n",
    "plt.title('Feature Significance For DecisionTreeClassifier With Max Depth 3')\n",
    "plt.axvline(x=0, color='.5')\n",
    "plt.subplots_adjust(left=.3)\n",
    "\n",
    "importance2 = pd.DataFrame({'feature':feature_cols, 'importance':treeclf2.feature_importances_})\n",
    "display(importance2)\n",
    "importance2.plot(kind='barh', figsize=(9, 7))\n",
    "plt.title('Feature Significance For DecisionTreeClassifier With Max Depth 5')\n",
    "plt.axvline(x=0, color='.5')\n",
    "plt.subplots_adjust(left=.3)"
   ]
  },
  {
   "cell_type": "code",
   "execution_count": null,
   "metadata": {},
   "outputs": [],
   "source": [
    "precision_df = pd.DataFrame.from_dict(model_precision)\n",
    "display(precision_df)\n",
    "display(precision_df.plot.bar().set_title(\"DecisionTreeClassifier Model Precision Score\"))\n",
    "fscore_df = pd.DataFrame.from_dict(model_fscore)\n",
    "display(fscore_df)\n",
    "display(fscore_df.plot.bar().set_title(\"Model FScore\"))\n",
    "recall_df = pd.DataFrame.from_dict(model_recall)\n",
    "display(recall_df)\n",
    "display(recall_df.plot.bar().set_title(\"Model Recall Score\"))"
   ]
  },
  {
   "attachments": {},
   "cell_type": "markdown",
   "metadata": {},
   "source": [
    "## Neural Networks"
   ]
  }
 ],
 "metadata": {
  "kernelspec": {
   "display_name": "Python 3",
   "language": "python",
   "name": "python3"
  },
  "language_info": {
   "codemirror_mode": {
    "name": "ipython",
    "version": 3
   },
   "file_extension": ".py",
   "mimetype": "text/x-python",
   "name": "python",
   "nbconvert_exporter": "python",
   "pygments_lexer": "ipython3",
   "version": "3.11.2"
  },
  "orig_nbformat": 4
 },
 "nbformat": 4,
 "nbformat_minor": 2
}
